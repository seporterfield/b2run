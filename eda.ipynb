{
 "cells": [
  {
   "cell_type": "code",
   "execution_count": null,
   "metadata": {},
   "outputs": [],
   "source": [
    "from datetime import timedelta\n",
    "\n",
    "import hiplot as hip\n",
    "import matplotlib.patches as mpatches\n",
    "import matplotlib.pyplot as plt\n",
    "import numpy as np\n",
    "import pandas as pd\n",
    "import seaborn as sns\n",
    "from scipy.optimize import curve_fit\n",
    "from sklearn.metrics import r2_score\n",
    "\n",
    "combined_path = \"./data/full_classes.parquet\"\n",
    "mixed_path = \"/app/mixed.parquet\"\n",
    "\n",
    "combined_run_df = pd.read_parquet(combined_path)"
   ]
  },
  {
   "cell_type": "code",
   "execution_count": null,
   "metadata": {},
   "outputs": [],
   "source": [
    "combined_run_df.head()"
   ]
  },
  {
   "cell_type": "code",
   "execution_count": null,
   "metadata": {},
   "outputs": [],
   "source": [
    "combined_run_df.info()"
   ]
  },
  {
   "cell_type": "code",
   "execution_count": null,
   "metadata": {},
   "outputs": [],
   "source": [
    "combined_run_df.describe()"
   ]
  },
  {
   "cell_type": "code",
   "execution_count": null,
   "metadata": {},
   "outputs": [],
   "source": [
    "men_df = combined_run_df[combined_run_df[\"Geschlecht\"] == \"M\"]\n",
    "women_df = combined_run_df[combined_run_df[\"Geschlecht\"] == \"W\"]\n",
    "len(combined_run_df) == len(men_df) + len(women_df)"
   ]
  },
  {
   "cell_type": "code",
   "execution_count": null,
   "metadata": {},
   "outputs": [],
   "source": [
    "men_df.describe()"
   ]
  },
  {
   "cell_type": "code",
   "execution_count": null,
   "metadata": {},
   "outputs": [],
   "source": [
    "women_df.describe()"
   ]
  },
  {
   "cell_type": "code",
   "execution_count": null,
   "metadata": {},
   "outputs": [],
   "source": [
    "pd.set_option(\"display.max_columns\", 1000)"
   ]
  },
  {
   "cell_type": "code",
   "execution_count": null,
   "metadata": {},
   "outputs": [],
   "source": [
    "vnames = (\n",
    "    combined_run_df.groupby(\"VName\")[\"Name\"]\n",
    "    .nunique()\n",
    "    .to_frame()\n",
    "    .sort_values(by=[\"Name\", \"VName\"], ascending=False)\n",
    "    .reset_index()\n",
    ")\n",
    "fnames = (\n",
    "    combined_run_df.groupby(\"FName\")[\"Name\"]\n",
    "    .nunique()\n",
    "    .to_frame()\n",
    "    .sort_values(by=[\"Name\", \"FName\"], ascending=False)\n",
    "    .reset_index()\n",
    ")\n",
    "\n",
    "fnames[fnames[\"Name\"] > 1].set_index(\"FName\").T"
   ]
  },
  {
   "cell_type": "code",
   "execution_count": null,
   "metadata": {},
   "outputs": [],
   "source": [
    "vnames[vnames[\"Name\"] > 1].set_index(\"VName\").T"
   ]
  },
  {
   "cell_type": "code",
   "execution_count": null,
   "metadata": {},
   "outputs": [],
   "source": [
    "sns.histplot(fnames[fnames[\"Name\"] > 4])"
   ]
  },
  {
   "cell_type": "code",
   "execution_count": null,
   "metadata": {},
   "outputs": [],
   "source": [
    "sns.histplot(vnames[vnames[\"Name\"] > 5])"
   ]
  },
  {
   "cell_type": "code",
   "execution_count": null,
   "metadata": {},
   "outputs": [],
   "source": [
    "combined_run_df[combined_run_df[\"VName\"] == combined_run_df[\"FName\"]]"
   ]
  },
  {
   "cell_type": "code",
   "execution_count": null,
   "metadata": {},
   "outputs": [],
   "source": [
    "combined_run_df[\n",
    "    (combined_run_df[\"VName\"] == \"No\") & (combined_run_df[\"FName\"] != \"Name\")\n",
    "]"
   ]
  },
  {
   "cell_type": "code",
   "execution_count": null,
   "metadata": {},
   "outputs": [],
   "source": [
    "combined_run_df[\n",
    "    (combined_run_df[\"VName\"] != \"No\") & (combined_run_df[\"FName\"] == \"Name\")\n",
    "]"
   ]
  },
  {
   "cell_type": "code",
   "execution_count": null,
   "metadata": {},
   "outputs": [],
   "source": [
    "combined_run_df[combined_run_df[\"Pos\"] == 1]"
   ]
  },
  {
   "cell_type": "code",
   "execution_count": null,
   "metadata": {},
   "outputs": [],
   "source": [
    "# Create a dataframe for the top 10 finishers' times\n",
    "top_10_df = combined_run_df[~combined_run_df[\"DNF\"]].nsmallest(10, \"Zeit\")\n",
    "top_10_df[\"name_and_firma\"] = top_10_df.apply(\n",
    "    lambda x: f\"{x['Name']}\\n({x['Verein']})\", axis=1\n",
    ")\n",
    "\n",
    "# Bar chart for top 10 finishers' times\n",
    "plt.figure(figsize=(10, 6))\n",
    "ax = sns.barplot(\n",
    "    x=\"Zeit\", y=\"name_and_firma\", data=top_10_df, palette=\"Blues_d\", errwidth=0\n",
    ")\n",
    "ax.set(xlim=(top_10_df[\"Zeit\"].min() - 30, top_10_df[\"Zeit\"].max() + 30))\n",
    "plt.xlabel(\"Time (hh:mm:ss)\")\n",
    "plt.ylabel(\"Runner\")\n",
    "plt.title(\"Top 10 Finishers' Times\")\n",
    "\n",
    "# Get the x-axis tick positions and convert them to the desired format\n",
    "tick_positions = ax.get_xticks()\n",
    "tick_labels = [str(timedelta(seconds=int(tick))) for tick in tick_positions]\n",
    "\n",
    "# Set the x-axis tick labels\n",
    "ax.set_xticklabels(tick_labels)\n",
    "\n",
    "plt.show()"
   ]
  },
  {
   "cell_type": "code",
   "execution_count": null,
   "metadata": {},
   "outputs": [],
   "source": [
    "# Create a dataframe for the gender distribution\n",
    "gender_df = combined_run_df[\"Geschlecht\"].value_counts()\n",
    "\n",
    "# Pie chart for gender distribution\n",
    "plt.figure(figsize=(6, 6))\n",
    "plt.pie(\n",
    "    gender_df,\n",
    "    labels=gender_df.index,\n",
    "    autopct=\"%1.1f%%\",\n",
    "    startangle=120,\n",
    "    colors=[\"lightblue\", \"lightpink\", \"gray\"],\n",
    ")\n",
    "plt.axis(\"equal\")\n",
    "plt.title(\"Gender Distribution\")\n",
    "plt.show()"
   ]
  },
  {
   "cell_type": "code",
   "execution_count": null,
   "metadata": {},
   "outputs": [],
   "source": [
    "full_classes_df = pd.read_parquet(\"./data/full_classes.parquet\")"
   ]
  },
  {
   "cell_type": "code",
   "execution_count": null,
   "metadata": {},
   "outputs": [],
   "source": [
    "full_classes_df.info()"
   ]
  },
  {
   "cell_type": "code",
   "execution_count": null,
   "metadata": {},
   "outputs": [],
   "source": [
    "sns.stripplot(\n",
    "    x=\"Zeit\",\n",
    "    y=\"Kat\",\n",
    "    data=full_classes_df[full_classes_df[\"Geschlecht\"] == \"M\"],\n",
    "    jitter=0.2,\n",
    "    size=2,\n",
    "    alpha=0.5,\n",
    "    color=\"orange\",\n",
    ")\n",
    "sns.stripplot(\n",
    "    x=\"Zeit\",\n",
    "    y=\"Kat\",\n",
    "    data=full_classes_df[full_classes_df[\"Geschlecht\"] == \"W\"],\n",
    "    jitter=0.2,\n",
    "    size=2,\n",
    "    alpha=0.3,\n",
    "    color=\"blue\",\n",
    ")\n",
    "\n",
    "plt.xlabel(\"Finish Time (seconds)\")\n",
    "plt.ylabel(\"Category\")\n",
    "plt.title(\"B2Run Bremen - Finish Times\")\n",
    "plt.show()"
   ]
  },
  {
   "cell_type": "code",
   "execution_count": null,
   "metadata": {},
   "outputs": [],
   "source": [
    "full_classes_df[full_classes_df[\"Pos\"] == 1]"
   ]
  },
  {
   "cell_type": "code",
   "execution_count": null,
   "metadata": {},
   "outputs": [],
   "source": [
    "full_classes_df[\n",
    "    (full_classes_df[\"Geschlecht\"] == \"M\") & (full_classes_df[\"Kat\"] == \"Ü30\")\n",
    "].sort_values(by=\"Zeit\").reset_index(drop=True)"
   ]
  },
  {
   "cell_type": "code",
   "execution_count": null,
   "metadata": {},
   "outputs": [],
   "source": [
    "plot1 = sns.stripplot(\n",
    "    x=\"Zeit\",\n",
    "    y=\"Geschlecht\",\n",
    "    data=combined_run_df[combined_run_df[\"MTeam\"]],\n",
    "    jitter=0.2,\n",
    "    size=5,\n",
    "    alpha=1,\n",
    "    color=\"blue\",\n",
    ")\n",
    "plot2 = sns.stripplot(\n",
    "    x=\"Zeit\",\n",
    "    y=\"Geschlecht\",\n",
    "    data=combined_run_df[~combined_run_df[\"MTeam\"]],\n",
    "    jitter=0.45,\n",
    "    size=1,\n",
    "    alpha=1,\n",
    "    color=\"orange\",\n",
    ")\n",
    "\n",
    "plt.xlabel(\"Finish Time (seconds)\")\n",
    "plt.ylabel(\"Gender\")\n",
    "plt.legend([\"Merentis\"])\n",
    "plt.title(\"B2Run Bremen - Finish Times\")\n",
    "\"\"\" this works but it's wrong, mixing rankings from both w and m\n",
    "ax2 = plot2.twiny()\n",
    "ax2.set_xlim(plot2.get_xlim())\n",
    "positions = combined_run_df['Pos'].unique()\n",
    "print(positions)\n",
    "positions = positions[::500]\n",
    "ax2.set_xticks(positions)\n",
    "ax2.set_xticklabels(positions, rotation=45)\n",
    "ax2.set_xlabel('Position')\"\"\"\n",
    "plt.show()"
   ]
  },
  {
   "cell_type": "code",
   "execution_count": null,
   "metadata": {},
   "outputs": [],
   "source": [
    "plot1 = sns.stripplot(\n",
    "    x=\"Zeit\",\n",
    "    data=combined_run_df[~combined_run_df[\"MTeam\"]],\n",
    "    jitter=0.45,\n",
    "    size=1,\n",
    "    alpha=1,\n",
    "    color=\"orange\",\n",
    ")\n",
    "plot2 = sns.stripplot(\n",
    "    x=\"Zeit\",\n",
    "    data=combined_run_df[combined_run_df[\"MTeam\"]],\n",
    "    jitter=0.07,\n",
    "    size=5,\n",
    "    alpha=1,\n",
    "    color=\"blue\",\n",
    ")\n",
    "\n",
    "plt.xlabel(\"Finish Time (seconds)\")\n",
    "blue_patch = mpatches.Patch(color=\"blue\", label=\"Merentis\")\n",
    "plt.legend(handles=[blue_patch])\n",
    "plt.title(\"B2Run Bremen - Finish Times\")\n",
    "plt.show()"
   ]
  },
  {
   "cell_type": "code",
   "execution_count": null,
   "metadata": {},
   "outputs": [],
   "source": [
    "combined_run_df = combined_run_df[~combined_run_df[\"DNF\"]]\n",
    "combined_run_df[\"Overall_Pos\"] = (\n",
    "    combined_run_df[\"Zeit\"].rank(method=\"min\", ascending=True).astype(int)\n",
    ")\n",
    "combined_run_df = combined_run_df.sort_values(by=\"Zeit\").reset_index(drop=True)\n",
    "merentis_df = combined_run_df[combined_run_df[\"MTeam\"]]\n",
    "merentis_df.sort_values(by=\"Zeit\")"
   ]
  },
  {
   "cell_type": "code",
   "execution_count": null,
   "metadata": {},
   "outputs": [],
   "source": [
    "combined_run_df[[\"Zeit\", \"Overall_Pos\", \"Name\"]].T"
   ]
  },
  {
   "cell_type": "code",
   "execution_count": null,
   "metadata": {},
   "outputs": [],
   "source": [
    "merentis_df[\"Name_Pos\"] = merentis_df.apply(\n",
    "    lambda x: f\"{x['Name']} (Pos. {int(x['Overall_Pos'])})\", axis=1\n",
    ")\n",
    "merentis_df = merentis_df.sort_values(by=\"Zeit\").reset_index(drop=True)\n",
    "\n",
    "ax = sns.barplot(x=\"Zeit\", y=\"Name_Pos\", data=merentis_df, errwidth=0)\n",
    "ax.set(xlim=(merentis_df[\"Zeit\"].min() - 30, merentis_df[\"Zeit\"].max() + 30))\n",
    "plt.xlabel(\"Finish Time\")\n",
    "plt.ylabel(\"Name and Position\")\n",
    "plt.title(\"Race Finish Times\")\n",
    "plt.show()"
   ]
  },
  {
   "cell_type": "code",
   "execution_count": null,
   "metadata": {},
   "outputs": [],
   "source": [
    "# Plot overall position vs race times\n",
    "plt.figure(figsize=(10, 6))\n",
    "sns.scatterplot(\n",
    "    x=\"Overall_Pos\", y=\"Zeit\", data=combined_run_df, color=\"blue\", linewidth=0\n",
    ")\n",
    "plt.xlabel(\"Overall Position\")\n",
    "plt.ylabel(\"Race Time (seconds)\")\n",
    "plt.title(\"Overall Position vs Race Times\")\n",
    "plt.show()"
   ]
  },
  {
   "cell_type": "code",
   "execution_count": null,
   "metadata": {},
   "outputs": [],
   "source": [
    "# Define your x and y data\n",
    "x_data = combined_run_df[\"Overall_Pos\"].values\n",
    "y_data = combined_run_df[\"Zeit\"].values\n",
    "\n",
    "\n",
    "def fit_pos_vs_time_curve(model_func, initial_guess):\n",
    "    optimized_params, _ = curve_fit(\n",
    "        model_func, x_data, y_data, p0=initial_guess, bounds=(0, np.inf)\n",
    "    )\n",
    "    fitted_curve = model_func(x_data, *optimized_params)\n",
    "\n",
    "    plt.scatter(x_data, y_data, label=\"Original Data\", s=1)\n",
    "    plt.plot(x_data, fitted_curve, color=\"red\", label=\"Fitted Curve\")\n",
    "    plt.xlabel(\"Overall Position\")\n",
    "    plt.ylabel(\"Time\")\n",
    "    plt.title(\"Fitted Curve vs. Original Data\")\n",
    "    plt.legend()\n",
    "    plt.show()\n",
    "\n",
    "    predicted_values = model_func(x_data, *optimized_params)\n",
    "    r2 = r2_score(y_data, predicted_values)\n",
    "    print(f\"R^2: {r2}\")"
   ]
  },
  {
   "cell_type": "code",
   "execution_count": null,
   "metadata": {},
   "outputs": [],
   "source": [
    "def model_func(x, A, B, C, D, E):\n",
    "    return (A - B) * (np.arcsin(np.clip(2 * x / C - 1, -1, 1)) * D + E) + B\n",
    "\n",
    "\n",
    "initial_guess = [6500, 1150, 5702, 1 / np.pi, 0.5]\n",
    "fit_pos_vs_time_curve(model_func=model_func, initial_guess=initial_guess)"
   ]
  },
  {
   "cell_type": "code",
   "execution_count": null,
   "metadata": {},
   "outputs": [],
   "source": [
    "def model_func(x, A, B, C, D, E):\n",
    "    return -A * np.log10(np.arcsin(np.clip(-1 / B * (x - C), -1, 1)) + D) + E\n",
    "\n",
    "\n",
    "initial_guess = [5640, 1870, 1870, 2.3, 4000]  # Initial parameter guess\n",
    "fit_pos_vs_time_curve(model_func=model_func, initial_guess=initial_guess)"
   ]
  },
  {
   "cell_type": "code",
   "execution_count": null,
   "metadata": {},
   "outputs": [],
   "source": [
    "combined_run_df[\"Zeit\"].min(), combined_run_df[\"Zeit\"].max(), combined_run_df[\n",
    "    \"Overall_Pos\"\n",
    "].min(), combined_run_df[\"Overall_Pos\"].max()"
   ]
  },
  {
   "cell_type": "code",
   "execution_count": null,
   "metadata": {},
   "outputs": [],
   "source": [
    "sorted_companies = pd.read_parquet(\"./data/companies.parquet\")"
   ]
  },
  {
   "cell_type": "code",
   "execution_count": null,
   "metadata": {},
   "outputs": [],
   "source": [
    "sorted_companies[sorted_companies[\"Läufer\"] == 1].loc[\n",
    "    :, [\"Firma\", \"Ds_Zeit\", \"Ds_Tempo\", \"Anzahl_Frauen\"]\n",
    "].set_index(\"Firma\").T"
   ]
  },
  {
   "cell_type": "code",
   "execution_count": null,
   "metadata": {},
   "outputs": [],
   "source": [
    "sns.histplot(data=sorted_companies[\"Läufer\"])"
   ]
  },
  {
   "cell_type": "code",
   "execution_count": null,
   "metadata": {},
   "outputs": [],
   "source": [
    "# Create a dataframe for the stacked bar chart\n",
    "stacked_df = (\n",
    "    sorted_companies[sorted_companies[\"Läufer\"] > 10]\n",
    "    .sort_values(by=\"Läufer\")\n",
    "    .iloc[-15:-1, :]\n",
    "    .reset_index(drop=True)[[\"Firma\", \"Anzahl_Männer\", \"Anzahl_Frauen\"]]\n",
    ")\n",
    "\n",
    "# Plot stacked bar chart\n",
    "plt.figure(figsize=(12, 6))\n",
    "stacked_df.plot(kind=\"bar\", x=\"Firma\", stacked=True)\n",
    "plt.xlabel(\"Organization\")\n",
    "plt.ylabel(\"Number of Participants\")\n",
    "plt.title(\"Number of Male and Female Participants by Organization\")\n",
    "plt.legend()\n",
    "plt.xticks(rotation=90)\n",
    "plt.show()"
   ]
  },
  {
   "cell_type": "code",
   "execution_count": null,
   "metadata": {},
   "outputs": [],
   "source": [
    "# Create a dataframe for the bar chart with error bars\n",
    "bar_df = (\n",
    "    sorted_companies[[\"Firma\", \"Ds_Zeit\", \"std\"]]\n",
    "    .copy()\n",
    "    .sort_values(by=\"Ds_Zeit\", ascending=True)\n",
    "    .reset_index(drop=True)\n",
    ")\n",
    "bar_df = bar_df.nlargest(10, \"Ds_Zeit\")\n",
    "\n",
    "# Plot bar chart with error bars\n",
    "plt.figure(figsize=(12, 6))\n",
    "plt.bar(bar_df[\"Firma\"], bar_df[\"Ds_Zeit\"], yerr=bar_df[\"std\"], capsize=4)\n",
    "plt.xlabel(\"Organization\")\n",
    "plt.ylabel(\"Average Race Time\")\n",
    "plt.title(\"Average Race Times with Error Bars by Organization\")\n",
    "plt.xticks(rotation=90)\n",
    "plt.show()"
   ]
  },
  {
   "cell_type": "code",
   "execution_count": null,
   "metadata": {},
   "outputs": [],
   "source": [
    "scatter_df = sorted_companies[[\"Läufer\", \"Ds_Zeit\"]].copy()\n",
    "\n",
    "# Plot scatter plot with line of best fit\n",
    "plt.figure(figsize=(10, 6))\n",
    "sns.scatterplot(x=\"Läufer\", y=\"Ds_Zeit\", data=scatter_df)\n",
    "plt.xlabel(\"Team Size\")\n",
    "plt.ylabel(\"Average Race Time\")\n",
    "plt.title(\"Scatter Plot: Number of People vs. Average Race Time\")\n",
    "plt.show()"
   ]
  },
  {
   "cell_type": "code",
   "execution_count": null,
   "metadata": {},
   "outputs": [],
   "source": [
    "women_perc_leaderboard = (\n",
    "    sorted_companies[sorted_companies[\"Läufer\"] > 3]\n",
    "    .sort_values(by=[\"Anteil_Frauen\", \"Läufer\"], ascending=False)\n",
    "    .reset_index(drop=True)\n",
    ")\n",
    "women_perc_leaderboard.head()"
   ]
  },
  {
   "cell_type": "code",
   "execution_count": null,
   "metadata": {},
   "outputs": [],
   "source": [
    "women_perc_leaderboard[women_perc_leaderboard[\"Firma\"] == \"MERENTIS GmbH\"]"
   ]
  },
  {
   "cell_type": "code",
   "execution_count": null,
   "metadata": {},
   "outputs": [],
   "source": [
    "men_perc_leaderboard = (\n",
    "    sorted_companies[sorted_companies[\"Läufer\"] > 3]\n",
    "    .sort_values(by=[\"Anteil_Männer\", \"Läufer\"], ascending=False)\n",
    "    .reset_index(drop=True)\n",
    ")\n",
    "men_perc_leaderboard.head()"
   ]
  },
  {
   "cell_type": "code",
   "execution_count": null,
   "metadata": {},
   "outputs": [],
   "source": [
    "men_perc_leaderboard[men_perc_leaderboard[\"Firma\"] == \"MERENTIS GmbH\"]"
   ]
  },
  {
   "cell_type": "code",
   "execution_count": null,
   "metadata": {},
   "outputs": [],
   "source": [
    "tempo_lb = sorted_companies.sort_values(by=\"Ds_Tempo\").reset_index(drop=True)\n",
    "tempo_lb.head()"
   ]
  },
  {
   "cell_type": "code",
   "execution_count": null,
   "metadata": {},
   "outputs": [],
   "source": [
    "tempo_lb[tempo_lb[\"Firma\"] == \"MERENTIS GmbH\"]"
   ]
  },
  {
   "cell_type": "code",
   "execution_count": null,
   "metadata": {},
   "outputs": [],
   "source": [
    "combined_run_df.head()"
   ]
  },
  {
   "cell_type": "code",
   "execution_count": null,
   "metadata": {},
   "outputs": [],
   "source": [
    "nonames = combined_run_df[\n",
    "    (combined_run_df[\"VName\"] == \"Noname\") | (combined_run_df[\"FName\"] == \"Noname\")\n",
    "]\n",
    "nonames.shape"
   ]
  },
  {
   "cell_type": "code",
   "execution_count": null,
   "metadata": {},
   "outputs": [],
   "source": [
    "combined_run_df[~combined_run_df[\"VName\"].str.isalpha()].head()"
   ]
  },
  {
   "cell_type": "code",
   "execution_count": null,
   "metadata": {},
   "outputs": [],
   "source": [
    "combined_run_df[~combined_run_df[\"FName\"].str.isalpha()].head()"
   ]
  },
  {
   "cell_type": "code",
   "execution_count": null,
   "metadata": {},
   "outputs": [],
   "source": [
    "combined_names = combined_run_df.drop(nonames.index)\n",
    "combined_names.shape, combined_run_df.shape"
   ]
  },
  {
   "cell_type": "code",
   "execution_count": null,
   "metadata": {},
   "outputs": [],
   "source": [
    "sorted_companies.head()"
   ]
  },
  {
   "cell_type": "code",
   "execution_count": null,
   "metadata": {},
   "outputs": [],
   "source": [
    "hip.Experiment.from_iterable(combined_run_df.to_dict(orient=\"records\")).display()"
   ]
  },
  {
   "cell_type": "code",
   "execution_count": null,
   "metadata": {},
   "outputs": [],
   "source": [
    "hip.Experiment.from_iterable(sorted_companies.to_dict(orient=\"records\")).display()"
   ]
  }
 ],
 "metadata": {
  "kernelspec": {
   "display_name": ".venv",
   "language": "python",
   "name": "python3"
  },
  "language_info": {
   "codemirror_mode": {
    "name": "ipython",
    "version": 3
   },
   "file_extension": ".py",
   "mimetype": "text/x-python",
   "name": "python",
   "nbconvert_exporter": "python",
   "pygments_lexer": "ipython3",
   "version": "3.11.3"
  }
 },
 "nbformat": 4,
 "nbformat_minor": 2
}
