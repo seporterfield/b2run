{
 "cells": [
  {
   "cell_type": "code",
   "execution_count": null,
   "metadata": {},
   "outputs": [],
   "source": [
    "import pandas as pd\n",
    "import tabula\n",
    "\n",
    "MEN_PATH = \"/app/fixed_results_m.pdf\"\n",
    "WOMEN_PATH = \"/app/results_w.pdf\"\n",
    "MIXED_PATH = \"/app/results_mixed.pdf\"\n",
    "\n",
    "\n",
    "def load_tables(path):\n",
    "    return tabula.read_pdf(path, pages=\"all\", stream=True)"
   ]
  },
  {
   "cell_type": "code",
   "execution_count": null,
   "metadata": {},
   "outputs": [],
   "source": [
    "men_tables, women_tables, mixed_tables = (\n",
    "    load_tables(MEN_PATH),\n",
    "    load_tables(WOMEN_PATH),\n",
    "    load_tables(MIXED_PATH),\n",
    ")"
   ]
  },
  {
   "cell_type": "code",
   "execution_count": null,
   "metadata": {},
   "outputs": [],
   "source": [
    "def clean_split_name_from_time(df):\n",
    "    # Cleans dfs that have columns like 'Firstname-Lastname22:31:02.3'\n",
    "    # Define regex pattern for matching the time in hh:mm:ss.x format\n",
    "    time_pattern = r\"(\\d{2}:\\d{2}:\\d{2}\\.\\d)\"\n",
    "    replace_pattern = r\"\\d{2}:\\d{2}:\\d{2}\\.\\d\"\n",
    "    # Extract the time from the original column using regex and create a new column\n",
    "    df.insert(5, 5, df.iloc[:, 2].str.extract(time_pattern))\n",
    "    # Remove the time from the original column, leaving just the name\n",
    "    df.iloc[:, 2] = (\n",
    "        df.iloc[:, 2].str.replace(replace_pattern, \"\", regex=True).str.strip()\n",
    "    )\n",
    "    # Reorder columns 3-5 to move column index 5 to index 3\n",
    "    df = df.iloc[:, [0, 1, 2, 5, 3, 4]]\n",
    "    return df\n",
    "\n",
    "\n",
    "def clean_move_name_from_time(df):\n",
    "    # Cleans dfs that have columns like 'Firstname-Lastname22:31:02.3'\n",
    "    # Define regex pattern for matching the time in hh:mm:ss.x format\n",
    "    time_pattern = r\"(\\d{2}:\\d{2}:\\d{2}\\.\\d)\"\n",
    "    replace_pattern = r\"\\d{2}:\\d{2}:\\d{2}\\.\\d\"\n",
    "    # Extract the time from the original column using regex and create a new column\n",
    "    df.iloc[:, 3] = df.iloc[:, 2].str.extract(time_pattern)\n",
    "    # Remove the time from the original column, leaving just the name\n",
    "    df.iloc[:, 2] = (\n",
    "        df.iloc[:, 2].str.replace(replace_pattern, \"\", regex=True).str.strip()\n",
    "    )\n",
    "    return df\n",
    "\n",
    "\n",
    "def load_run_df(tables):\n",
    "    # Loads extracted tables into df and puts things in the right order\n",
    "    columns = tables[0].columns\n",
    "    # Create an empty DataFrame with column names from the first DataFrame\n",
    "    run_df = pd.DataFrame(columns=columns)\n",
    "    for df in tables:\n",
    "        df = df.T.reset_index().T.reset_index(drop=True)\n",
    "        # Name and time shoved together, missing time column\n",
    "        if len(df.columns) != len(columns):\n",
    "            df = clean_split_name_from_time(df)\n",
    "        # Name and time shoved together, time column NaN or garbage data\n",
    "        elif \":\" in df.iloc[0, 2]:\n",
    "            df = clean_move_name_from_time(df)\n",
    "        df.columns = columns\n",
    "        df = df.loc[df.ne(df.columns).any(axis=1)]\n",
    "        run_df = pd.concat([run_df, df], ignore_index=True)\n",
    "\n",
    "    run_df = run_df.drop(columns=[\"GPos\"])\n",
    "    print(\n",
    "        f\"Processed {len(run_df)} total entries, {len(run_df[run_df.isna().any(axis=1)])} have NaNs\"\n",
    "    )\n",
    "    run_df = run_df.dropna(subset=\"Zeit\")\n",
    "    print(\n",
    "        f\"After dropping time NaNs {len(run_df[run_df.isna().any(axis=1)])} NaNs left\"\n",
    "    )\n",
    "    return run_df"
   ]
  },
  {
   "cell_type": "code",
   "execution_count": null,
   "metadata": {},
   "outputs": [],
   "source": [
    "men_run_df, women_run_df, mixed_run_df = (\n",
    "    load_run_df(men_tables),\n",
    "    load_run_df(women_tables),\n",
    "    load_run_df(mixed_tables),\n",
    ")"
   ]
  },
  {
   "cell_type": "code",
   "execution_count": null,
   "metadata": {},
   "outputs": [],
   "source": [
    "men_run_df[men_run_df.isna().any(axis=1)]"
   ]
  },
  {
   "cell_type": "code",
   "execution_count": null,
   "metadata": {},
   "outputs": [],
   "source": [
    "mixed_run_df.head()"
   ]
  },
  {
   "cell_type": "code",
   "execution_count": null,
   "metadata": {},
   "outputs": [],
   "source": [
    "men_run_df.head()"
   ]
  },
  {
   "cell_type": "code",
   "execution_count": null,
   "metadata": {},
   "outputs": [],
   "source": [
    "women_run_df.head()"
   ]
  },
  {
   "cell_type": "code",
   "execution_count": null,
   "metadata": {},
   "outputs": [],
   "source": [
    "def clean_int_col(df, colname):\n",
    "    df[colname] = (\n",
    "        df[colname].astype(str).str.replace(\".0\", \"\").str.rstrip(\".\").astype(int)\n",
    "    )\n",
    "    return df\n",
    "\n",
    "\n",
    "def clean_time(df):\n",
    "    df[\"Zeit\"] = pd.to_timedelta(df[\"Zeit\"]).dt.total_seconds()\n",
    "    return df\n",
    "\n",
    "\n",
    "def clean_run_df(df):\n",
    "    df = clean_int_col(df, \"Pos\")\n",
    "    df = clean_int_col(df, \"Nr\")\n",
    "    # leave in this order!\n",
    "    # cleaning time before the other vars causes errors in other cols? black magic!\n",
    "    df = clean_time(df)\n",
    "    df = df.dropna()\n",
    "    return df"
   ]
  },
  {
   "cell_type": "code",
   "execution_count": null,
   "metadata": {},
   "outputs": [],
   "source": [
    "men_run_df, women_run_df = clean_run_df(men_run_df), clean_run_df(women_run_df)\n",
    "men_run_df[\"Geschlecht\"] = \"M\"\n",
    "men_run_df[\"Geschlecht\"] = men_run_df[\"Geschlecht\"].astype(\"category\")\n",
    "women_run_df[\"Geschlecht\"] = \"W\"\n",
    "women_run_df[\"Geschlecht\"] = women_run_df[\"Geschlecht\"].astype(\"category\")"
   ]
  },
  {
   "cell_type": "code",
   "execution_count": null,
   "metadata": {},
   "outputs": [],
   "source": [
    "men_run_df.head()"
   ]
  },
  {
   "cell_type": "code",
   "execution_count": null,
   "metadata": {},
   "outputs": [],
   "source": [
    "women_run_df.head()"
   ]
  },
  {
   "cell_type": "code",
   "execution_count": null,
   "metadata": {},
   "outputs": [],
   "source": [
    "combined_run_df = pd.concat([men_run_df, women_run_df], ignore_index=True)\n",
    "combined_run_df[\"Geschlecht\"] = combined_run_df[\"Geschlecht\"].astype(\"category\")"
   ]
  },
  {
   "cell_type": "code",
   "execution_count": null,
   "metadata": {},
   "outputs": [],
   "source": [
    "combined_run_df[\"VName\"] = (\n",
    "    combined_run_df[\"Name\"].str.split().str[:-1].apply(\" \".join).str.strip()\n",
    ")\n",
    "combined_run_df[\"FName\"] = combined_run_df[\"Name\"].str.split().str[-1].str.strip()\n",
    "combined_run_df[\"NoName\"] = (combined_run_df[\"VName\"] == \"No\") & (\n",
    "    combined_run_df[\"FName\"] == \"Name\"\n",
    ")\n",
    "combined_run_df[\"NoFName\"] = (combined_run_df[\"FName\"] == \"Noname\") | (\n",
    "    combined_run_df[\"NoName\"]\n",
    ")\n",
    "combined_run_df[\"MTeam\"] = combined_run_df[\"Firma\"] == \"MERENTIS GmbH\"\n",
    "combined_run_df[\"MTeam\"] = combined_run_df[\"MTeam\"].astype(bool)\n",
    "combined_run_df = combined_run_df.sort_values(by=\"Zeit\").reset_index(drop=True)"
   ]
  },
  {
   "cell_type": "code",
   "execution_count": null,
   "metadata": {},
   "outputs": [],
   "source": [
    "combined_run_df.head(20)"
   ]
  },
  {
   "cell_type": "code",
   "execution_count": null,
   "metadata": {},
   "outputs": [],
   "source": [
    "men_df = combined_run_df[combined_run_df[\"Geschlecht\"] == \"M\"]\n",
    "men_df = men_df.sort_values(by=\"Pos\", ascending=True).reset_index(drop=True)\n",
    "jumps_men = men_df[men_df[\"Zeit\"] < men_df[\"Zeit\"].shift(1)].set_index(\"Pos\")\n",
    "jumps_men"
   ]
  },
  {
   "cell_type": "code",
   "execution_count": null,
   "metadata": {},
   "outputs": [],
   "source": [
    "prejump_times = (\n",
    "    men_df[men_df[\"Pos\"].isin(jumps_men.index - 1)]\n",
    "    .sort_values(\"Pos\")[\"Zeit\"]\n",
    "    .reset_index(drop=True)\n",
    ")\n",
    "jump_times = jumps_men[\"Zeit\"].reset_index(drop=True)\n",
    "prejump_times.subtract(jump_times).to_frame().T"
   ]
  },
  {
   "cell_type": "code",
   "execution_count": null,
   "metadata": {},
   "outputs": [],
   "source": [
    "women_df = combined_run_df[combined_run_df[\"Geschlecht\"] == \"W\"]\n",
    "women_df = women_df.sort_values(by=\"Pos\", ascending=True).reset_index(drop=True)\n",
    "jumps_women = women_df[women_df[\"Zeit\"] < women_df[\"Zeit\"].shift(1)].set_index(\"Pos\")\n",
    "jumps_women"
   ]
  },
  {
   "cell_type": "code",
   "execution_count": null,
   "metadata": {},
   "outputs": [],
   "source": [
    "prejump_times = (\n",
    "    women_df[women_df[\"Pos\"].isin(jumps_women.index - 1)]\n",
    "    .sort_values(\"Pos\")[\"Zeit\"]\n",
    "    .reset_index(drop=True)\n",
    ")\n",
    "jump_times = jumps_women[\"Zeit\"].reset_index(drop=True)\n",
    "prejump_times.subtract(jump_times).to_frame().T"
   ]
  },
  {
   "cell_type": "code",
   "execution_count": null,
   "metadata": {},
   "outputs": [],
   "source": [
    "combined_run_df.info()"
   ]
  },
  {
   "cell_type": "code",
   "execution_count": null,
   "metadata": {},
   "outputs": [],
   "source": [
    "combined_run_df[combined_run_df.isna().any(axis=1)],\n",
    "men_run_df[men_run_df.isna().any(axis=1)],\n",
    "women_run_df[women_run_df.isna().any(axis=1)],"
   ]
  },
  {
   "cell_type": "code",
   "execution_count": null,
   "metadata": {},
   "outputs": [],
   "source": [
    "combined_run_df.to_parquet(\"/app/combined.parquet\", index=False)"
   ]
  }
 ],
 "metadata": {
  "kernelspec": {
   "display_name": "Python 3",
   "language": "python",
   "name": "python3"
  },
  "language_info": {
   "codemirror_mode": {
    "name": "ipython",
    "version": 3
   },
   "file_extension": ".py",
   "mimetype": "text/x-python",
   "name": "python",
   "nbconvert_exporter": "python",
   "pygments_lexer": "ipython3",
   "version": "3.11.3"
  }
 },
 "nbformat": 4,
 "nbformat_minor": 2
}
