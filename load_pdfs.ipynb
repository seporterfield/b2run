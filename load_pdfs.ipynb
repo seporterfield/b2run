{
 "cells": [
  {
   "cell_type": "code",
   "execution_count": null,
   "metadata": {},
   "outputs": [],
   "source": [
    "import tabula\n",
    "\n",
    "FULL_RUN_PATH = \"./data/classes_w.pdf\"\n",
    "SAVE_PATH = \"./data/classes_w.csv\"\n",
    "\n",
    "\n",
    "def load_tables(inpath, outpath):\n",
    "    tabula.convert_into(\n",
    "        input_path=inpath,\n",
    "        output_path=outpath,\n",
    "        output_format=\"csv\",\n",
    "        pages=\"all\",\n",
    "        stream=True,\n",
    "    )"
   ]
  },
  {
   "cell_type": "code",
   "execution_count": null,
   "metadata": {},
   "outputs": [],
   "source": [
    "load_tables(FULL_RUN_PATH, SAVE_PATH)"
   ]
  }
 ],
 "metadata": {
  "kernelspec": {
   "display_name": "b2run",
   "language": "python",
   "name": "python3"
  },
  "language_info": {
   "codemirror_mode": {
    "name": "ipython",
    "version": 3
   },
   "file_extension": ".py",
   "mimetype": "text/x-python",
   "name": "python",
   "nbconvert_exporter": "python",
   "pygments_lexer": "ipython3",
   "version": "3.11.3"
  }
 },
 "nbformat": 4,
 "nbformat_minor": 2
}
