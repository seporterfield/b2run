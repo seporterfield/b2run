{
 "cells": [
  {
   "cell_type": "code",
   "execution_count": null,
   "metadata": {},
   "outputs": [],
   "source": [
    "import pandas as pd\n",
    "\n",
    "combined_csv = \"/app/combined.csv\"\n",
    "combined_run_df = pd.read_csv(combined_csv)"
   ]
  },
  {
   "cell_type": "code",
   "execution_count": null,
   "metadata": {},
   "outputs": [],
   "source": [
    "company_counts = combined_run_df.groupby(\"Firma\")[\"Nr\"].nunique().reset_index()\n",
    "# Sort the companies based on the number of runners in descending order\n",
    "sorted_companies = company_counts.sort_values(\"Nr\", ascending=False)\n",
    "sorted_companies = sorted_companies.rename(columns={\"Nr\": \"Läufer\"})\n",
    "# Reset the index of the sorted dataframe\n",
    "sorted_companies.reset_index(drop=True, inplace=True)"
   ]
  },
  {
   "cell_type": "code",
   "execution_count": null,
   "metadata": {},
   "outputs": [],
   "source": [
    "summary_stats = (\n",
    "    combined_run_df.groupby(\"Firma\")[\"Zeit\"]\n",
    "    .agg([\"min\", \"max\", \"mean\", \"std\"])\n",
    "    .rename(columns={\"min\": \"Min_Zeit\", \"max\": \"Max_Zeit\", \"mean\": \"Ds_Zeit\"})\n",
    ")\n",
    "gender_counts = (\n",
    "    combined_run_df.groupby(\"Firma\")[\"Geschlecht\"]\n",
    "    .value_counts()\n",
    "    .unstack(fill_value=0)\n",
    "    .rename(columns={\"W\": \"Anzahl_Frauen\", \"M\": \"Anzahl_Männer\"})\n",
    ")\n",
    "sorted_companies = pd.merge(sorted_companies, summary_stats, on=\"Firma\")\n",
    "sorted_companies = pd.merge(sorted_companies, gender_counts, on=\"Firma\")\n",
    "sorted_companies[\"Ds_Tempo\"] = 6.3 * 3600 / sorted_companies[\"Ds_Zeit\"]\n",
    "sorted_companies[\"Anteil_Männer\"] = sorted_companies[\"Anzahl_Männer\"].divide(\n",
    "    sorted_companies[\"Läufer\"]\n",
    ")\n",
    "sorted_companies[\"Anteil_Frauen\"] = sorted_companies[\"Anzahl_Frauen\"].divide(\n",
    "    sorted_companies[\"Läufer\"]\n",
    ")"
   ]
  },
  {
   "cell_type": "code",
   "execution_count": null,
   "metadata": {},
   "outputs": [],
   "source": [
    "sorted_companies.head()"
   ]
  },
  {
   "cell_type": "code",
   "execution_count": null,
   "metadata": {},
   "outputs": [],
   "source": [
    "sorted_companies.info()"
   ]
  },
  {
   "cell_type": "code",
   "execution_count": null,
   "metadata": {},
   "outputs": [],
   "source": [
    "sorted_companies[sorted_companies.drop(\"std\", axis=1).isna().any(axis=1)]"
   ]
  },
  {
   "cell_type": "code",
   "execution_count": null,
   "metadata": {},
   "outputs": [],
   "source": [
    "sorted_companies.to_parquet(\"/app/companies.parquet\", index=False)"
   ]
  }
 ],
 "metadata": {
  "kernelspec": {
   "display_name": "Python 3",
   "language": "python",
   "name": "python3"
  },
  "language_info": {
   "codemirror_mode": {
    "name": "ipython",
    "version": 3
   },
   "file_extension": ".py",
   "mimetype": "text/x-python",
   "name": "python",
   "nbconvert_exporter": "python",
   "pygments_lexer": "ipython3",
   "version": "3.11.3"
  }
 },
 "nbformat": 4,
 "nbformat_minor": 2
}
