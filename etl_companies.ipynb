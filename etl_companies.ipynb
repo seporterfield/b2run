{
 "cells": [
  {
   "cell_type": "code",
   "execution_count": 32,
   "metadata": {},
   "outputs": [],
   "source": [
    "import pandas as pd\n",
    "combined_csv = '/app/combined.csv'\n",
    "combined_run_df = pd.read_csv(combined_csv)"
   ]
  },
  {
   "cell_type": "code",
   "execution_count": 33,
   "metadata": {},
   "outputs": [],
   "source": [
    "company_counts = combined_run_df.groupby('Firma')['Nr'].nunique().reset_index()\n",
    "# Sort the companies based on the number of runners in descending order\n",
    "sorted_companies = company_counts.sort_values('Nr', ascending=False)\n",
    "sorted_companies = sorted_companies.rename(columns={'Nr': 'Läufer'})\n",
    "# Reset the index of the sorted dataframe\n",
    "sorted_companies.reset_index(drop=True, inplace=True)"
   ]
  },
  {
   "cell_type": "code",
   "execution_count": 34,
   "metadata": {},
   "outputs": [],
   "source": [
    "summary_stats = combined_run_df.groupby('Firma')['Zeit'].agg(['min', 'max', 'mean', 'std']).rename(columns={'min': 'Min_Zeit', 'max': 'Max_Zeit', 'mean': 'Ds_Zeit'})\n",
    "gender_counts = combined_run_df.groupby('Firma')['Geschlecht'].value_counts().unstack(fill_value=0).rename(columns={'W': 'Anzahl_Frauen', 'M': 'Anzahl_Männer'})\n",
    "sorted_companies = pd.merge(sorted_companies, summary_stats, on='Firma')\n",
    "sorted_companies = pd.merge(sorted_companies, gender_counts, on='Firma')\n",
    "sorted_companies['Ds_Tempo'] = 6.3 * 3600 / sorted_companies['Ds_Zeit']\n",
    "sorted_companies['Anteil_Männer'] = sorted_companies['Anzahl_Männer'].divide(sorted_companies['Läufer'])\n",
    "sorted_companies['Anteil_Frauen'] = sorted_companies['Anzahl_Frauen'].divide(sorted_companies['Läufer'])"
   ]
  },
  {
   "cell_type": "code",
   "execution_count": 35,
   "metadata": {},
   "outputs": [
    {
     "data": {
      "text/html": [
       "<div>\n",
       "<style scoped>\n",
       "    .dataframe tbody tr th:only-of-type {\n",
       "        vertical-align: middle;\n",
       "    }\n",
       "\n",
       "    .dataframe tbody tr th {\n",
       "        vertical-align: top;\n",
       "    }\n",
       "\n",
       "    .dataframe thead th {\n",
       "        text-align: right;\n",
       "    }\n",
       "</style>\n",
       "<table border=\"1\" class=\"dataframe\">\n",
       "  <thead>\n",
       "    <tr style=\"text-align: right;\">\n",
       "      <th></th>\n",
       "      <th>Firma</th>\n",
       "      <th>Läufer</th>\n",
       "      <th>Min_Zeit</th>\n",
       "      <th>Max_Zeit</th>\n",
       "      <th>Ds_Zeit</th>\n",
       "      <th>std</th>\n",
       "      <th>Anzahl_Männer</th>\n",
       "      <th>Anzahl_Frauen</th>\n",
       "      <th>Ds_Tempo</th>\n",
       "      <th>Anteil_Männer</th>\n",
       "      <th>Anteil_Frauen</th>\n",
       "    </tr>\n",
       "  </thead>\n",
       "  <tbody>\n",
       "    <tr>\n",
       "      <th>0</th>\n",
       "      <td>ArcelorMittal Bremen GmbH</td>\n",
       "      <td>149</td>\n",
       "      <td>1435.7</td>\n",
       "      <td>3824.5</td>\n",
       "      <td>2050.810067</td>\n",
       "      <td>347.973536</td>\n",
       "      <td>125</td>\n",
       "      <td>24</td>\n",
       "      <td>11.059045</td>\n",
       "      <td>0.838926</td>\n",
       "      <td>0.161074</td>\n",
       "    </tr>\n",
       "    <tr>\n",
       "      <th>1</th>\n",
       "      <td>Airbus Operations GmbH</td>\n",
       "      <td>123</td>\n",
       "      <td>1339.0</td>\n",
       "      <td>3493.4</td>\n",
       "      <td>2068.026829</td>\n",
       "      <td>416.965796</td>\n",
       "      <td>101</td>\n",
       "      <td>22</td>\n",
       "      <td>10.966976</td>\n",
       "      <td>0.821138</td>\n",
       "      <td>0.178862</td>\n",
       "    </tr>\n",
       "    <tr>\n",
       "      <th>2</th>\n",
       "      <td>ATLAS ELEKTRONIK GmbH</td>\n",
       "      <td>108</td>\n",
       "      <td>1397.4</td>\n",
       "      <td>3643.3</td>\n",
       "      <td>2170.349074</td>\n",
       "      <td>426.764891</td>\n",
       "      <td>86</td>\n",
       "      <td>22</td>\n",
       "      <td>10.449932</td>\n",
       "      <td>0.796296</td>\n",
       "      <td>0.203704</td>\n",
       "    </tr>\n",
       "    <tr>\n",
       "      <th>3</th>\n",
       "      <td>Rheinmetall Electronics GmbH</td>\n",
       "      <td>98</td>\n",
       "      <td>1339.5</td>\n",
       "      <td>3275.5</td>\n",
       "      <td>2161.122449</td>\n",
       "      <td>337.206604</td>\n",
       "      <td>84</td>\n",
       "      <td>14</td>\n",
       "      <td>10.494546</td>\n",
       "      <td>0.857143</td>\n",
       "      <td>0.142857</td>\n",
       "    </tr>\n",
       "    <tr>\n",
       "      <th>4</th>\n",
       "      <td>Unternehmensgruppe Lürssen</td>\n",
       "      <td>79</td>\n",
       "      <td>1509.9</td>\n",
       "      <td>2747.1</td>\n",
       "      <td>2070.739241</td>\n",
       "      <td>331.365855</td>\n",
       "      <td>69</td>\n",
       "      <td>10</td>\n",
       "      <td>10.952610</td>\n",
       "      <td>0.873418</td>\n",
       "      <td>0.126582</td>\n",
       "    </tr>\n",
       "  </tbody>\n",
       "</table>\n",
       "</div>"
      ],
      "text/plain": [
       "                          Firma  Läufer  Min_Zeit  Max_Zeit      Ds_Zeit   \n",
       "0     ArcelorMittal Bremen GmbH     149    1435.7    3824.5  2050.810067  \\\n",
       "1        Airbus Operations GmbH     123    1339.0    3493.4  2068.026829   \n",
       "2         ATLAS ELEKTRONIK GmbH     108    1397.4    3643.3  2170.349074   \n",
       "3  Rheinmetall Electronics GmbH      98    1339.5    3275.5  2161.122449   \n",
       "4    Unternehmensgruppe Lürssen      79    1509.9    2747.1  2070.739241   \n",
       "\n",
       "          std  Anzahl_Männer  Anzahl_Frauen   Ds_Tempo  Anteil_Männer   \n",
       "0  347.973536            125             24  11.059045       0.838926  \\\n",
       "1  416.965796            101             22  10.966976       0.821138   \n",
       "2  426.764891             86             22  10.449932       0.796296   \n",
       "3  337.206604             84             14  10.494546       0.857143   \n",
       "4  331.365855             69             10  10.952610       0.873418   \n",
       "\n",
       "   Anteil_Frauen  \n",
       "0       0.161074  \n",
       "1       0.178862  \n",
       "2       0.203704  \n",
       "3       0.142857  \n",
       "4       0.126582  "
      ]
     },
     "execution_count": 35,
     "metadata": {},
     "output_type": "execute_result"
    }
   ],
   "source": [
    "sorted_companies.head()"
   ]
  },
  {
   "cell_type": "code",
   "execution_count": 36,
   "metadata": {},
   "outputs": [
    {
     "name": "stdout",
     "output_type": "stream",
     "text": [
      "<class 'pandas.core.frame.DataFrame'>\n",
      "RangeIndex: 357 entries, 0 to 356\n",
      "Data columns (total 11 columns):\n",
      " #   Column         Non-Null Count  Dtype  \n",
      "---  ------         --------------  -----  \n",
      " 0   Firma          357 non-null    object \n",
      " 1   Läufer         357 non-null    int64  \n",
      " 2   Min_Zeit       357 non-null    float64\n",
      " 3   Max_Zeit       357 non-null    float64\n",
      " 4   Ds_Zeit        357 non-null    float64\n",
      " 5   std            338 non-null    float64\n",
      " 6   Anzahl_Männer  357 non-null    int64  \n",
      " 7   Anzahl_Frauen  357 non-null    int64  \n",
      " 8   Ds_Tempo       357 non-null    float64\n",
      " 9   Anteil_Männer  357 non-null    float64\n",
      " 10  Anteil_Frauen  357 non-null    float64\n",
      "dtypes: float64(7), int64(3), object(1)\n",
      "memory usage: 30.8+ KB\n"
     ]
    }
   ],
   "source": [
    "sorted_companies.info()"
   ]
  },
  {
   "cell_type": "code",
   "execution_count": 37,
   "metadata": {},
   "outputs": [
    {
     "data": {
      "text/html": [
       "<div>\n",
       "<style scoped>\n",
       "    .dataframe tbody tr th:only-of-type {\n",
       "        vertical-align: middle;\n",
       "    }\n",
       "\n",
       "    .dataframe tbody tr th {\n",
       "        vertical-align: top;\n",
       "    }\n",
       "\n",
       "    .dataframe thead th {\n",
       "        text-align: right;\n",
       "    }\n",
       "</style>\n",
       "<table border=\"1\" class=\"dataframe\">\n",
       "  <thead>\n",
       "    <tr style=\"text-align: right;\">\n",
       "      <th></th>\n",
       "      <th>Firma</th>\n",
       "      <th>Läufer</th>\n",
       "      <th>Min_Zeit</th>\n",
       "      <th>Max_Zeit</th>\n",
       "      <th>Ds_Zeit</th>\n",
       "      <th>std</th>\n",
       "      <th>Anzahl_Männer</th>\n",
       "      <th>Anzahl_Frauen</th>\n",
       "      <th>Ds_Tempo</th>\n",
       "      <th>Anteil_Männer</th>\n",
       "      <th>Anteil_Frauen</th>\n",
       "    </tr>\n",
       "  </thead>\n",
       "  <tbody>\n",
       "  </tbody>\n",
       "</table>\n",
       "</div>"
      ],
      "text/plain": [
       "Empty DataFrame\n",
       "Columns: [Firma, Läufer, Min_Zeit, Max_Zeit, Ds_Zeit, std, Anzahl_Männer, Anzahl_Frauen, Ds_Tempo, Anteil_Männer, Anteil_Frauen]\n",
       "Index: []"
      ]
     },
     "execution_count": 37,
     "metadata": {},
     "output_type": "execute_result"
    }
   ],
   "source": [
    "sorted_companies[sorted_companies.drop('std', axis=1).isna().any(axis=1)]"
   ]
  },
  {
   "cell_type": "code",
   "execution_count": 38,
   "metadata": {},
   "outputs": [],
   "source": [
    "sorted_companies.to_parquet('/app/companies.parquet', index=False)"
   ]
  }
 ],
 "metadata": {
  "kernelspec": {
   "display_name": "Python 3",
   "language": "python",
   "name": "python3"
  },
  "language_info": {
   "codemirror_mode": {
    "name": "ipython",
    "version": 3
   },
   "file_extension": ".py",
   "mimetype": "text/x-python",
   "name": "python",
   "nbconvert_exporter": "python",
   "pygments_lexer": "ipython3",
   "version": "3.11.3"
  },
  "orig_nbformat": 4
 },
 "nbformat": 4,
 "nbformat_minor": 2
}
